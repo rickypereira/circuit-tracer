{
 "cells": [
  {
   "cell_type": "markdown",
   "id": "677b961b-0971-43a7-9f9c-c8cdc7487864",
   "metadata": {},
   "source": [
    "# Pythia-410M transcoder-vs.-SAE interpretability challenge!"
   ]
  },
  {
   "cell_type": "code",
   "execution_count": 1,
   "id": "41bb7b5f-31e7-47bd-80d0-617c66174cb5",
   "metadata": {},
   "outputs": [],
   "source": [
    "from transcoder_circuits.circuit_analysis import *\n",
    "from transcoder_circuits.feature_dashboards import *\n",
    "from transcoder_circuits.replacement_ctx import *"
   ]
  },
  {
   "cell_type": "markdown",
   "id": "989bda79-57c3-477c-98cf-0994db1e90f6",
   "metadata": {},
   "source": [
    "Now, import the SAE/transcoder code, along with the model that we'll be analyzing (GPT2-small)."
   ]
  },
  {
   "cell_type": "code",
   "execution_count": 2,
   "id": "b3e4c6bf-2f7a-4420-a0c8-dae13b0a723f",
   "metadata": {},
   "outputs": [
    {
     "name": "stderr",
     "output_type": "stream",
     "text": [
      "Special tokens have been added in the vocabulary, make sure the associated word embeddings are fine-tuned or trained.\n"
     ]
    },
    {
     "name": "stdout",
     "output_type": "stream",
     "text": [
      "Loaded pretrained model pythia-410m into HookedTransformer\n"
     ]
    }
   ],
   "source": [
    "from sae_training.sparse_autoencoder import SparseAutoencoder\n",
    "from transformer_lens import HookedTransformer, utils\n",
    "import os\n",
    "import torch\n",
    "\n",
    "model = HookedTransformer.from_pretrained('pythia-410m')"
   ]
  },
  {
   "cell_type": "markdown",
   "id": "412c64ef-d644-49d4-9695-6d97dbe64ed4",
   "metadata": {
    "id": "N3D_0qDmBY5K"
   },
   "source": [
    "Now, load in a corpus of text that we'll use for our analysis. We'll be drawing from OpenWebText, which is similar to the dataset on which GPT2-small was trained."
   ]
  },
  {
   "cell_type": "code",
   "execution_count": 3,
   "id": "c0d05463-ccc7-4c0b-97f0-618df0ea4498",
   "metadata": {
    "jupyter": {
     "source_hidden": true
    }
   },
   "outputs": [],
   "source": [
    "# This function was stolen from one of Neel Nanda's exploratory notebooks\n",
    "# Thanks, Neel!\n",
    "import einops\n",
    "def tokenize_and_concatenate(\n",
    "    dataset,\n",
    "    tokenizer,\n",
    "    streaming = False,\n",
    "    max_length = 1024,\n",
    "    column_name = \"text\",\n",
    "    add_bos_token = True,\n",
    "):\n",
    "    \"\"\"Helper function to tokenizer and concatenate a dataset of text. This converts the text to tokens, concatenates them (separated by EOS tokens) and then reshapes them into a 2D array of shape (____, sequence_length), dropping the last batch. Tokenizers are much faster if parallelised, so we chop the string into 20, feed it into the tokenizer, in parallel with padding, then remove padding at the end.\n",
    "\n",
    "    This tokenization is useful for training language models, as it allows us to efficiently train on a large corpus of text of varying lengths (without, eg, a lot of truncation or padding). Further, for models with absolute positional encodings, this avoids privileging early tokens (eg, news articles often begin with CNN, and models may learn to use early positional encodings to predict these)\n",
    "\n",
    "    Args:\n",
    "        dataset (Dataset): The dataset to tokenize, assumed to be a HuggingFace text dataset.\n",
    "        tokenizer (AutoTokenizer): The tokenizer. Assumed to have a bos_token_id and an eos_token_id.\n",
    "        streaming (bool, optional): Whether the dataset is being streamed. If True, avoids using parallelism. Defaults to False.\n",
    "        max_length (int, optional): The length of the context window of the sequence. Defaults to 1024.\n",
    "        column_name (str, optional): The name of the text column in the dataset. Defaults to 'text'.\n",
    "        add_bos_token (bool, optional): . Defaults to True.\n",
    "\n",
    "    Returns:\n",
    "        Dataset: Returns the tokenized dataset, as a dataset of tensors, with a single column called \"tokens\"\n",
    "\n",
    "    Note: There is a bug when inputting very small datasets (eg, <1 batch per process) where it just outputs nothing. I'm not super sure why\n",
    "    \"\"\"\n",
    "    for key in dataset.features:\n",
    "        if key != column_name:\n",
    "            dataset = dataset.remove_columns(key)\n",
    "\n",
    "    if tokenizer.pad_token is None:\n",
    "        # We add a padding token, purely to implement the tokenizer. This will be removed before inputting tokens to the model, so we do not need to increment d_vocab in the model.\n",
    "        tokenizer.add_special_tokens({\"pad_token\": \"<PAD>\"})\n",
    "    # Define the length to chop things up into - leaving space for a bos_token if required\n",
    "    if add_bos_token:\n",
    "        seq_len = max_length - 1\n",
    "    else:\n",
    "        seq_len = max_length\n",
    "\n",
    "    def tokenize_function(examples):\n",
    "        text = examples[column_name]\n",
    "        # Concatenate it all into an enormous string, separated by eos_tokens\n",
    "        full_text = tokenizer.eos_token.join(text)\n",
    "        # Divide into 20 chunks of ~ equal length\n",
    "        num_chunks = 20\n",
    "        chunk_length = (len(full_text) - 1) // num_chunks + 1\n",
    "        chunks = [\n",
    "            full_text[i * chunk_length : (i + 1) * chunk_length]\n",
    "            for i in range(num_chunks)\n",
    "        ]\n",
    "        # Tokenize the chunks in parallel. Uses NumPy because HuggingFace map doesn't want tensors returned\n",
    "        tokens = tokenizer(chunks, return_tensors=\"np\", padding=True)[\n",
    "            \"input_ids\"\n",
    "        ].flatten()\n",
    "        # Drop padding tokens\n",
    "        tokens = tokens[tokens != tokenizer.pad_token_id]\n",
    "        num_tokens = len(tokens)\n",
    "        num_batches = num_tokens // (seq_len)\n",
    "        # Drop the final tokens if not enough to make a full sequence\n",
    "        tokens = tokens[: seq_len * num_batches]\n",
    "        tokens = einops.rearrange(\n",
    "            tokens, \"(batch seq) -> batch seq\", batch=num_batches, seq=seq_len\n",
    "        )\n",
    "        if add_bos_token:\n",
    "            prefix = np.full((num_batches, 1), tokenizer.bos_token_id)\n",
    "            tokens = np.concatenate([prefix, tokens], axis=1)\n",
    "        return {\"tokens\": tokens}\n",
    "\n",
    "    tokenized_dataset = dataset.map(\n",
    "        tokenize_function,\n",
    "        batched=True,\n",
    "        remove_columns=[column_name],\n",
    "    )\n",
    "    #tokenized_dataset.set_format(type=\"torch\", columns=[\"tokens\"])\n",
    "    return tokenized_dataset\n"
   ]
  },
  {
   "cell_type": "code",
   "execution_count": 4,
   "id": "566356a8-ff08-4fce-857e-065245f70dd6",
   "metadata": {},
   "outputs": [],
   "source": [
    "from datasets import load_dataset\n",
    "from huggingface_hub import HfApi\n",
    "import numpy as np\n",
    "\n",
    "dataset = load_dataset('Skylion007/openwebtext', split='train', streaming=True)\n",
    "dataset = dataset.shuffle(seed=42, buffer_size=10_000)\n",
    "tokenized_owt = tokenize_and_concatenate(dataset, model.tokenizer, max_length=128, streaming=True)\n",
    "tokenized_owt = tokenized_owt.shuffle(42)\n",
    "tokenized_owt = tokenized_owt.take(12800*2)\n",
    "owt_tokens = np.stack([x['tokens'] for x in tokenized_owt])"
   ]
  },
  {
   "cell_type": "code",
   "execution_count": 5,
   "id": "9015ff5e-b158-47c9-874a-850f5fa41700",
   "metadata": {},
   "outputs": [],
   "source": [
    "owt_tokens_torch = torch.from_numpy(owt_tokens).cuda()"
   ]
  },
  {
   "cell_type": "markdown",
   "id": "8c04591d-2d89-4f9f-8ff8-53cb21b8022a",
   "metadata": {},
   "source": [
    "# Load transcoder and SAEs"
   ]
  },
  {
   "cell_type": "code",
   "execution_count": 6,
   "id": "ceee9c39-f092-47c3-a5b8-bed038158906",
   "metadata": {},
   "outputs": [],
   "source": [
    "import pickle"
   ]
  },
  {
   "cell_type": "code",
   "execution_count": 7,
   "id": "263847f2-be18-41d2-84e5-66e5ef6144b6",
   "metadata": {},
   "outputs": [],
   "source": [
    "transcoder_template = \"pythia-transcoders/lr_0.0002_l1_5.5e-05/szsvunrm/final_sparse_autoencoder_pythia-410m_blocks.15.ln2.hook_normalized_32768\"\n",
    "transcoder = SparseAutoencoder.load_from_pretrained(f\"{transcoder_template}.pt\").eval()\n",
    "with open(f\"{transcoder_template}_log_feature_sparsity.pt\", \"rb\") as fp:\n",
    "    tc_sparsity = pickle.load(fp)\n",
    "tc_freqs = tc_sparsity['freqs']"
   ]
  },
  {
   "cell_type": "code",
   "execution_count": 8,
   "id": "43706dae-4a5c-4896-90d5-ad216f24e3d9",
   "metadata": {},
   "outputs": [],
   "source": [
    "sae_template = \"./pythia-saes/l1_7e-05/olr1w3lx/final_sparse_autoencoder_pythia-410m_blocks.15.ln2.hook_normalized_32768\"\n",
    "sae = SparseAutoencoder.load_from_pretrained(f\"{sae_template}.pt\").eval()\n",
    "with open(f\"{sae_template}_log_feature_sparsity.pt\", \"rb\") as fp:\n",
    "    sae_sparsity = pickle.load(fp)\n",
    "sae_freqs = sae_sparsity['freqs']"
   ]
  },
  {
   "cell_type": "code",
   "execution_count": 9,
   "id": "ae6b83d2-3ea6-42dd-bc74-953ca44bfedb",
   "metadata": {},
   "outputs": [
    {
     "data": {
      "image/png": "[encoded data removed]",
      "text/plain": [
       "<Figure size 640x480 with 1 Axes>"
      ]
     },
     "metadata": {},
     "output_type": "display_data"
    }
   ],
   "source": [
    "plt.hist(sae_freqs, bins=100)\n",
    "plt.hist(tc_freqs, bins=100)\n",
    "plt.show()"
   ]
  },
  {
   "cell_type": "code",
   "execution_count": 10,
   "id": "a5f9dd4d-b210-491d-8ea7-57e2347526ca",
   "metadata": {},
   "outputs": [],
   "source": [
    "tc_live = np.arange(len(tc_freqs))[utils.to_numpy(tc_freqs > -4)]\n",
    "sae_live = np.arange(len(sae_freqs))[utils.to_numpy(sae_freqs > -4)]"
   ]
  },
  {
   "cell_type": "code",
   "execution_count": 11,
   "id": "6f8d39e3-4a1c-43dd-aef6-3ce7fc6c1c95",
   "metadata": {},
   "outputs": [
    {
     "data": {
      "text/plain": [
       "(10403, 9381)"
      ]
     },
     "execution_count": 11,
     "metadata": {},
     "output_type": "execute_result"
    }
   ],
   "source": [
    "len(sae_live), len(tc_live)"
   ]
  },
  {
   "cell_type": "markdown",
   "id": "19a7678b-9aa0-40a9-a6e3-912226fa0294",
   "metadata": {},
   "source": [
    "# Generate feature dashboards\n",
    "\n",
    "This code generates a list of feature dashboards for 50 random transcoder features and 50 random SAE features. It saves these dashboards along with a text file containing the features that they correspond to.\n",
    "\n",
    "Note that we found that SAE features might have different ranges of activations than transcoder features. To prevent this from coloring our assessment, we then wrote a short additional script (not included here) to remove all numerical information about feature activations from the feature dashboards."
   ]
  },
  {
   "cell_type": "code",
   "execution_count": 21,
   "id": "ae027264-269b-4809-9db0-27ac5e0035c1",
   "metadata": {},
   "outputs": [],
   "source": [
    "save_dir = 'feature dashboards/'"
   ]
  },
  {
   "cell_type": "code",
   "execution_count": 22,
   "id": "fa5beb13-3923-45ff-aa09-731633e131de",
   "metadata": {},
   "outputs": [],
   "source": [
    "import random\n",
    "\n",
    "num_features = 50\n",
    "tc_features = np.random.choice(tc_live[1:], size=num_features, replace=False)\n",
    "sae_features = np.random.choice(sae_live[1:], size=num_features, replace=False)\n",
    "features_list = [(x, 'tc') for x in tc_features] + [(x, 'sae') for x in sae_features]\n",
    "random.shuffle(features_list)"
   ]
  },
  {
   "cell_type": "code",
   "execution_count": 23,
   "id": "996bc3d0-f013-48e1-a2ff-163b2876d1b9",
   "metadata": {
    "scrolled": true
   },
   "outputs": [
    {
     "name": "stdout",
     "output_type": "stream",
     "text": [
      "i: 0\n"
     ]
    },
    {
     "name": "stderr",
     "output_type": "stream",
     "text": [
      "100%|██████████| 200/200 [01:54<00:00,  1.75it/s]\n"
     ]
    },
    {
     "name": "stdout",
     "output_type": "stream",
     "text": [
      "i: 1\n"
     ]
    },
    {
     "name": "stderr",
     "output_type": "stream",
     "text": [
      "100%|██████████| 200/200 [01:54<00:00,  1.74it/s]\n"
     ]
    },
    {
     "name": "stdout",
     "output_type": "stream",
     "text": [
      "i: 2\n"
     ]
    },
    {
     "name": "stderr",
     "output_type": "stream",
     "text": [
      "100%|██████████| 200/200 [01:54<00:00,  1.74it/s]\n"
     ]
    },
    {
     "name": "stdout",
     "output_type": "stream",
     "text": [
      "i: 4\n"
     ]
    },
    {
     "name": "stderr",
     "output_type": "stream",
     "text": [
      "100%|██████████| 200/200 [01:54<00:00,  1.75it/s]\n"
     ]
    },
    {
     "name": "stdout",
     "output_type": "stream",
     "text": [
      "i: 5\n"
     ]
    },
    {
     "name": "stderr",
     "output_type": "stream",
     "text": [
      "100%|██████████| 200/200 [01:54<00:00,  1.74it/s]\n"
     ]
    },
    {
     "name": "stdout",
     "output_type": "stream",
     "text": [
      "i: 6\n"
     ]
    },
    {
     "name": "stderr",
     "output_type": "stream",
     "text": [
      "100%|██████████| 200/200 [01:54<00:00,  1.74it/s]\n"
     ]
    },
    {
     "name": "stdout",
     "output_type": "stream",
     "text": [
      "i: 7\n"
     ]
    },
    {
     "name": "stderr",
     "output_type": "stream",
     "text": [
      "100%|██████████| 200/200 [01:54<00:00,  1.74it/s]\n"
     ]
    },
    {
     "name": "stdout",
     "output_type": "stream",
     "text": [
      "i: 8\n"
     ]
    },
    {
     "name": "stderr",
     "output_type": "stream",
     "text": [
      "100%|██████████| 200/200 [01:54<00:00,  1.75it/s]\n"
     ]
    },
    {
     "name": "stdout",
     "output_type": "stream",
     "text": [
      "i: 9\n"
     ]
    },
    {
     "name": "stderr",
     "output_type": "stream",
     "text": [
      "100%|██████████| 200/200 [01:54<00:00,  1.75it/s]\n"
     ]
    },
    {
     "name": "stdout",
     "output_type": "stream",
     "text": [
      "i: 10\n"
     ]
    },
    {
     "name": "stderr",
     "output_type": "stream",
     "text": [
      " 92%|█████████▎| 185/200 [01:46<00:08,  1.74it/s]\n",
      "\n",
      "KeyboardInterrupt\n",
      "\n"
     ]
    }
   ],
   "source": [
    "i = 0\n",
    "while i < 2*num_features:\n",
    "    print(f\"i: {i}\")\n",
    "    feature_idx, feature_type = features_list[i]\n",
    "    if feature_type == 'tc':\n",
    "        scores = get_feature_scores(model, transcoder, owt_tokens_torch, feature_idx, batch_size=128)\n",
    "    elif feature_type == 'sae':\n",
    "        scores = get_feature_scores(model, sae, owt_tokens_torch, feature_idx, batch_size=128)\n",
    "        \n",
    "    if (scores>0).sum() < 4:\n",
    "        # replace feature if there are less than four activating examples\n",
    "        new_feature = None\n",
    "        while new_feature is None or (new_feature, feature_type) in features_list:\n",
    "            new_feature = random.choice(tc_live[1:] if feature_type == 'tc' else sae_live[1:])\n",
    "        del features_list[i]\n",
    "        features_list.append((new_feature, feature_type))\n",
    "        continue\n",
    "    \n",
    "    with open(save_dir + f'{i}.html', \"w\") as fp:\n",
    "        fp.write(display_activating_examples_dash(model, owt_tokens_torch, scores, do_display=False))\n",
    "    i += 1\n",
    "\n",
    "with open(save_dir + 'SECRET_FEATURES_LIST.txt', \"w\") as fp:\n",
    "    fp.write(\"\\n\".join([f'{i}: {feature_type}[{feature_idx}]' for i, (feature_type, feature_idx) in enumerate(features_list)]))"
   ]
  },
  {
   "cell_type": "markdown",
   "id": "995ae1b3-1460-46de-afb7-721776cbdc43",
   "metadata": {},
   "source": [
    "# Evaluating results\n",
    "\n",
    "This section shows how we evaluated the results of our interpretability comparison. We load in the list of features and compare them to a list of notes (taken by the human evaluator) for each feature. Then, we can see how many SAE/transcoder features were interpretable, maybe-interpretable, or uninterpretable."
   ]
  },
  {
   "cell_type": "code",
   "execution_count": 1,
   "id": "35cfcf12-71a4-4a5d-93e4-48d0e6eb8183",
   "metadata": {},
   "outputs": [],
   "source": [
    "with open('feature dashboards/SECRET_FEATURES_LIST.txt', 'r') as fp:\n",
    "    feature_strs = fp.readlines()"
   ]
  },
  {
   "cell_type": "code",
   "execution_count": 8,
   "id": "6f9628e2-f415-4482-a62e-06a828341a9a",
   "metadata": {},
   "outputs": [],
   "source": [
    "import numpy as np\n",
    "is_tc = np.array(['tc' in x for x in feature_strs])\n",
    "is_sae = np.array(['sae' in x for x in feature_strs])"
   ]
  },
  {
   "cell_type": "code",
   "execution_count": 6,
   "id": "a4e3d7d0-5eef-4362-8335-34e623369155",
   "metadata": {},
   "outputs": [
    {
     "data": {
      "text/plain": [
       "50"
      ]
     },
     "execution_count": 6,
     "metadata": {},
     "output_type": "execute_result"
    }
   ],
   "source": [
    "is_tc.sum()"
   ]
  },
  {
   "cell_type": "markdown",
   "id": "9416dd2e-d55c-4809-b66c-1e53625d493f",
   "metadata": {},
   "source": [
    "The below cell contains the human evaluator's notes on feature interpretability."
   ]
  },
  {
   "cell_type": "code",
   "execution_count": 9,
   "id": "61c92f3b-67f9-444d-a5f8-b8423b246528",
   "metadata": {
    "jupyter": {
     "source_hidden": true
    }
   },
   "outputs": [],
   "source": [
    "interp_strs = \\\n",
    "\"\"\"0 yes\n",
    "1 yes, context-free\n",
    "2 yes\n",
    "3 maybe, context-free\n",
    "4 yes\n",
    "5 yes\n",
    "6 yes\n",
    "7 yes\n",
    "8 yes\n",
    "9 yes\n",
    "10 yes, context-free\n",
    "11 maybe\n",
    "12 maybe\n",
    "13 yes\n",
    "14 yes, context-free\n",
    "15 yes\n",
    "16 yes\n",
    "17 yes, context-free\n",
    "18 yes\n",
    "19 maybe, context-free\n",
    "20 yes\n",
    "21 yes\n",
    "22 yes\n",
    "23 yes, context-free\n",
    "24 maybe, context-free\n",
    "25 yes, context-free\n",
    "26 yes\n",
    "27 yes\n",
    "28 maybe\n",
    "29 yes\n",
    "30 maybe, context-free\n",
    "31 yes\n",
    "32 yes\n",
    "33 maybe\n",
    "34 yes\n",
    "35 yes\n",
    "36 yes\n",
    "37 yes\n",
    "38 maybe\n",
    "39 yes\n",
    "40 yes\n",
    "41 yes, context-free\n",
    "42 no\n",
    "43 no\n",
    "44 maybe\n",
    "45 yes\n",
    "46 yes\n",
    "47 yes, context-free\n",
    "48 yes, context-free\n",
    "49 yes, context-free\n",
    "50 yes\n",
    "51 yes\n",
    "52 yes\n",
    "53 yes\n",
    "54 yes\n",
    "55 maybe\n",
    "56 yes\n",
    "57 no\n",
    "58 maybe\n",
    "59 yes\n",
    "60 yes, context-free\n",
    "61 yes\n",
    "62 yes\n",
    "63 maybe\n",
    "64 yes\n",
    "65 no\n",
    "66 yes\n",
    "67 maybe\n",
    "68 yes\n",
    "69 yes\n",
    "70 yes\n",
    "71 yes, context-free\n",
    "72 maybe\n",
    "73 yes\n",
    "74 yes\n",
    "75 yes, context-free\n",
    "76 yes\n",
    "77 yes\n",
    "78 yes, context-free\n",
    "79 yes\n",
    "80 yes\n",
    "81 yes\n",
    "82 yes, context-free\n",
    "83 yes\n",
    "84 no\n",
    "85 yes\n",
    "86 yes, context-free\n",
    "87 yes\n",
    "88 yes\n",
    "89 yes\n",
    "90 yes\n",
    "91 yes, context-free\n",
    "92 yes\n",
    "93 yes\n",
    "94 yes\n",
    "95 yes\n",
    "96 yes, context-free\n",
    "97 yes\n",
    "98 maybe\n",
    "99 yes\"\"\".split(\"\\n\")"
   ]
  },
  {
   "cell_type": "code",
   "execution_count": 11,
   "id": "ce9278e7-01ef-4a31-a737-e0b68d71fe53",
   "metadata": {},
   "outputs": [],
   "source": [
    "is_yes = np.array(['yes' in x for x in interp_strs])\n",
    "is_maybe = np.array(['maybe' in x for x in interp_strs])\n",
    "is_no = np.array(['no' in x for x in interp_strs])\n",
    "is_ctx_free = np.array(['context-free' in x for x in interp_strs])"
   ]
  },
  {
   "cell_type": "code",
   "execution_count": 13,
   "id": "85d536db-80ba-4fb3-954f-0b7504465c05",
   "metadata": {},
   "outputs": [
    {
     "data": {
      "text/plain": [
       "41"
      ]
     },
     "execution_count": 13,
     "metadata": {},
     "output_type": "execute_result"
    }
   ],
   "source": [
    "np.logical_and(is_tc, is_yes).sum()"
   ]
  },
  {
   "cell_type": "code",
   "execution_count": 14,
   "id": "881fe686-3395-439d-b2a9-23fea7dda440",
   "metadata": {},
   "outputs": [
    {
     "data": {
      "text/plain": [
       "38"
      ]
     },
     "execution_count": 14,
     "metadata": {},
     "output_type": "execute_result"
    }
   ],
   "source": [
    "np.logical_and(is_sae, is_yes).sum()"
   ]
  },
  {
   "cell_type": "code",
   "execution_count": 16,
   "id": "1f0386c0-9b3a-4484-9edc-5444916d5fd3",
   "metadata": {},
   "outputs": [
    {
     "data": {
      "text/plain": [
       "8"
      ]
     },
     "execution_count": 16,
     "metadata": {},
     "output_type": "execute_result"
    }
   ],
   "source": [
    "np.logical_and(is_tc, is_maybe).sum()"
   ]
  },
  {
   "cell_type": "code",
   "execution_count": 15,
   "id": "e24dd7ae-301b-4742-b85d-2bfa94e1c4da",
   "metadata": {},
   "outputs": [
    {
     "data": {
      "text/plain": [
       "8"
      ]
     },
     "execution_count": 15,
     "metadata": {},
     "output_type": "execute_result"
    }
   ],
   "source": [
    "np.logical_and(is_sae, is_maybe).sum()"
   ]
  },
  {
   "cell_type": "code",
   "execution_count": 17,
   "id": "d284ecd8-a163-4ff3-a1ae-f457af60da37",
   "metadata": {},
   "outputs": [
    {
     "data": {
      "text/plain": [
       "1"
      ]
     },
     "execution_count": 17,
     "metadata": {},
     "output_type": "execute_result"
    }
   ],
   "source": [
    "np.logical_and(is_tc, is_no).sum()"
   ]
  },
  {
   "cell_type": "code",
   "execution_count": 18,
   "id": "cca04b1c-71e6-4420-b9bf-06c2ddd00112",
   "metadata": {},
   "outputs": [
    {
     "data": {
      "text/plain": [
       "4"
      ]
     },
     "execution_count": 18,
     "metadata": {},
     "output_type": "execute_result"
    }
   ],
   "source": [
    "np.logical_and(is_sae, is_no).sum()"
   ]
  },
  {
   "cell_type": "code",
   "execution_count": 19,
   "id": "67fa843d-ed85-4f25-8e1f-ffedf5d42ead",
   "metadata": {},
   "outputs": [
    {
     "data": {
      "text/plain": [
       "6"
      ]
     },
     "execution_count": 19,
     "metadata": {},
     "output_type": "execute_result"
    }
   ],
   "source": [
    "np.logical_and(is_tc, is_ctx_free).sum()"
   ]
  },
  {
   "cell_type": "code",
   "execution_count": 20,
   "id": "1a1ba177-a741-4183-8818-59a3147d1029",
   "metadata": {},
   "outputs": [
    {
     "data": {
      "text/plain": [
       "16"
      ]
     },
     "execution_count": 20,
     "metadata": {},
     "output_type": "execute_result"
    }
   ],
   "source": [
    "np.logical_and(is_sae, is_ctx_free).sum()"
   ]
  }
 ],
 "metadata": {
  "kernelspec": {
   "display_name": "Python 3 (ipykernel)",
   "language": "python",
   "name": "python3"
  },
  "language_info": {
   "codemirror_mode": {
    "name": "ipython",
    "version": 3
   },
   "file_extension": ".py",
   "mimetype": "text/x-python",
   "name": "python",
   "nbconvert_exporter": "python",
   "pygments_lexer": "ipython3",
   "version": "3.9.16"
  }
 },
 "nbformat": 4,
 "nbformat_minor": 5
}
